{
 "cells": [
  {
   "cell_type": "code",
   "execution_count": 3,
   "metadata": {},
   "outputs": [],
   "source": [
    "import psycopg2\n",
    "import pandas as pd"
   ]
  },
  {
   "cell_type": "code",
   "execution_count": 5,
   "metadata": {},
   "outputs": [
    {
     "ename": "NameError",
     "evalue": "name 'localhost' is not defined",
     "output_type": "error",
     "traceback": [
      "\u001b[1;31m---------------------------------------------------------------------------\u001b[0m",
      "\u001b[1;31mNameError\u001b[0m                                 Traceback (most recent call last)",
      "Cell \u001b[1;32mIn[5], line 2\u001b[0m\n\u001b[0;32m      1\u001b[0m conn \u001b[38;5;241m=\u001b[39m psycopg2\u001b[38;5;241m.\u001b[39mconnect(\n\u001b[1;32m----> 2\u001b[0m     host\u001b[38;5;241m=\u001b[39m\u001b[43mlocalhost\u001b[49m,         \u001b[38;5;66;03m# e.g., \"localhost\"\u001b[39;00m\n\u001b[0;32m      3\u001b[0m     database\u001b[38;5;241m=\u001b[39mmydb, \u001b[38;5;66;03m# e.g., \"mydb\"\u001b[39;00m\n\u001b[0;32m      4\u001b[0m     user\u001b[38;5;241m=\u001b[39mpostgres,         \u001b[38;5;66;03m# e.g., \"postgres\"\u001b[39;00m\n\u001b[0;32m      5\u001b[0m     password\u001b[38;5;241m=\u001b[39mmysecretpassword  \u001b[38;5;66;03m# your password\u001b[39;00m\n\u001b[0;32m      6\u001b[0m )\n",
      "\u001b[1;31mNameError\u001b[0m: name 'localhost' is not defined"
     ]
    }
   ],
   "source": [
    "conn = psycopg2.connect(\n",
    "    host=localhost,         # e.g., \"localhost\"\n",
    "    database=mydb, # e.g., \"mydb\"\n",
    "    user=postgres,         # e.g., \"postgres\"\n",
    "    password=mysecretpassword  # your password\n",
    ")"
   ]
  }
 ],
 "metadata": {
  "kernelspec": {
   "display_name": ".venv",
   "language": "python",
   "name": "python3"
  },
  "language_info": {
   "codemirror_mode": {
    "name": "ipython",
    "version": 3
   },
   "file_extension": ".py",
   "mimetype": "text/x-python",
   "name": "python",
   "nbconvert_exporter": "python",
   "pygments_lexer": "ipython3",
   "version": "3.10.11"
  }
 },
 "nbformat": 4,
 "nbformat_minor": 2
}
