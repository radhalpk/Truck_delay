{
 "cells": [
  {
   "cell_type": "code",
   "execution_count": 2,
   "metadata": {},
   "outputs": [
    {
     "name": "stdout",
     "output_type": "stream",
     "text": [
      "Error retrieving feature group: 'API'\n"
     ]
    }
   ],
   "source": [
    "import hsfs\n",
    "import hopsworks\n",
    "import configparser\n",
    "\n",
    "def retrieve_final_df_feature_group():\n",
    "    try:\n",
    "        # Read the API key from config.ini\n",
    "        config = configparser.ConfigParser()\n",
    "        config.read('/Users/pavankumarradhala/Desktop/projects/Truck_delay/src/config/config.ini')\n",
    "\n",
    "        # Extract the API key\n",
    "        api_key = config['API']['hopswork_api_key']\n",
    "\n",
    "        # Connect to the Hopsworks feature store using only the API key\n",
    "        connection = hopsworks.connection(\n",
    "            api_key_value=api_key\n",
    "        )\n",
    "\n",
    "        # Get the project and feature store\n",
    "        project = connection.get_project()\n",
    "        fs = project.get_feature_store()\n",
    "\n",
    "        # Retrieve the 'final_df_feature_group' feature group\n",
    "        final_df_fg = fs.get_feature_group(name=\"final_df_feature_group\", version=1)\n",
    "\n",
    "        # Retrieve the feature group data as a Pandas DataFrame\n",
    "        final_df = final_df_fg.read()\n",
    "\n",
    "        # Close the connection\n",
    "        connection.close()\n",
    "\n",
    "        # Return the final DataFrame\n",
    "        return final_df\n",
    "\n",
    "    except Exception as e:\n",
    "        print(f\"Error retrieving feature group: {e}\")\n",
    "        return None\n",
    "\n",
    "# Usage\n",
    "final_df = retrieve_final_df_feature_group()\n",
    "if final_df is not None:\n",
    "    print(final_df.head())  # Display the first few rows\n"
   ]
  }
 ],
 "metadata": {
  "kernelspec": {
   "display_name": "myenv2",
   "language": "python",
   "name": "python3"
  },
  "language_info": {
   "codemirror_mode": {
    "name": "ipython",
    "version": 3
   },
   "file_extension": ".py",
   "mimetype": "text/x-python",
   "name": "python",
   "nbconvert_exporter": "python",
   "pygments_lexer": "ipython3",
   "version": "3.10.15"
  }
 },
 "nbformat": 4,
 "nbformat_minor": 2
}
